{
 "cells": [
  {
   "cell_type": "raw",
   "source": [
    "%matplotlib widget\n",
    "import matplotlib.pyplot as plt\n",
    "import numpy as np\n",
    "\n",
    "def Airglow(T, min_mag):\n",
    "    factor_half_surface = 1./2\n",
    "    y = (1e10, 1./T / factor_half_surface,\n",
    "         1./T * factor_half_surface, 1e10)\n",
    "    x = (min_mag, min_mag, 10., 10.)\n",
    "    return x, y\n",
    "\n",
    "def Earth(M):\n",
    "    return 10.**(-M+5) * 500\n",
    "\n",
    "def SP_sensor(T, noise_rel_to_Mars):\n",
    "    # Replace with magnitude formula, as discussed in meeting\n",
    "    r_detection_SP = 1500. # Distance at which the SP detected a magnitude 3 quake in km.\n",
    "    A_detection_SP = r_detection_SP**2. * np.pi\n",
    "    A_Venus = 6100.**2 * np.pi * 4\n",
    "\n",
    "    ratio_whole_planet = A_detection_SP / A_Venus\n",
    "    x = (3., 4., 5.,)\n",
    "    y = (1./(T * ratio_whole_planet),\n",
    "         1./(T * ratio_whole_planet)/2., # Just some values\n",
    "         1./(T * ratio_whole_planet)/4., # \n",
    "         )\n",
    "    return x, y\n",
    "\n",
    "\n",
    "\n",
    "fig, ax = plt.subplots(1, 1, figsize=(8, 6))\n",
    "ax.set_yscale('log')\n",
    "ax.set_ylim(0.01, 1e7)\n",
    "ax.set_xlim(1, 9)\n",
    "ax.set_xlabel('Magnitude $M_W$')\n",
    "ax.set_ylabel('$N_{M>M_W}$ per year')\n",
    "ax.grid()\n",
    "\n",
    "# Plot seismicity\n",
    "x = np.arange(0, 10)\n",
    "ax.plot(x, Earth(x), label='Earth seismicity', c='darkgrey')\n",
    "\n",
    "\n",
    "# Plot airglow\n",
    "ndays_airglow = 180 # days\n",
    "x, y = Airglow(T=ndays_airglow/365.25,\n",
    "               min_mag=6.)\n",
    "ax.plot(x, y, label='Airglow, %d days' % (ndays_airglow))\n",
    "\n",
    "# Plot SP-like sensor\n",
    "ndays_ground = 90 # days\n",
    "x, y = SP_sensor(T=ndays_ground / 365.25,\n",
    "                 noise_rel_to_Mars=1.)\n",
    "ax.plot(x, y, label='ground, %d days' % (ndays_ground))\n",
    "\n",
    "ax.legend()"
   ],
   "metadata": {
    "collapsed": false,
    "pycharm": {
     "name": ""
    }
   }
  }
 ],
 "metadata": {
  "kernelspec": {
   "display_name": "Python 3",
   "language": "python",
   "name": "python3"
  },
  "language_info": {
   "codemirror_mode": {
    "name": "ipython",
    "version": 2
   },
   "file_extension": ".py",
   "mimetype": "text/x-python",
   "name": "python",
   "nbconvert_exporter": "python",
   "pygments_lexer": "ipython2",
   "version": "2.7.6"
  }
 },
 "nbformat": 4,
 "nbformat_minor": 0
}
