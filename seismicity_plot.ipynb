{
 "cells": [
  {
   "cell_type": "code",
   "execution_count": null,
   "metadata": {
    "collapsed": true
   },
   "outputs": [],
   "source": [
    "%matplotlib widget\n",
    "import matplotlib.pyplot as plt\n",
    "import numpy as np\n",
    "\n",
    "fig, ax = plt.subplots(1, 1, figsize=(8, 6))\n",
    "ax.set_yscale('log')\n",
    "#ax.set_xscale('log')\n",
    "ax.set_ylim(0.01, 1e7)\n",
    "ax.set_xlim(1, 9)\n",
    "ax.set_xlabel('Magnitude $M_W$')\n",
    "ax.set_ylabel('$N_{M>M_W}$ per year')\n",
    "ax.grid()\n",
    "\n",
    "def Earth(M):\n",
    "    return 10.**(-M+5) * 500\n",
    "\n",
    "x = np.arange(0, 10)\n",
    "ax.plot(x, Earth(x), label='Earth seismicity')"
   ]
  }
 ],
 "metadata": {
  "kernelspec": {
   "display_name": "Python 3",
   "language": "python",
   "name": "python3"
  },
  "language_info": {
   "codemirror_mode": {
    "name": "ipython",
    "version": 2
   },
   "file_extension": ".py",
   "mimetype": "text/x-python",
   "name": "python",
   "nbconvert_exporter": "python",
   "pygments_lexer": "ipython2",
   "version": "2.7.6"
  }
 },
 "nbformat": 4,
 "nbformat_minor": 0
}
